{
 "cells": [
  {
   "cell_type": "code",
   "execution_count": null,
   "id": "cc6fc4f5-b066-4225-94b1-2b3fc0b89677",
   "metadata": {},
   "outputs": [],
   "source": [
    "import math\n",
    "import random\n",
    "\n",
    "import pandas as pd\n",
    "from pysorteddict import SortedDict\n",
    "\n",
    "\n",
    "def setup(sorted_dict_len: int, seed: float = math.pi) -> SortedDict:\n",
    "    random.seed(seed)\n",
    "    d = SortedDict()\n",
    "    for _ in range(sorted_dict_len):\n",
    "        d[random.random()] = random.random()\n",
    "    return d\n",
    "\n",
    "\n",
    "sorted_dict_lens = [100, 1_000, 10_000, 100_000, 1_000_000, 10_000_000]"
   ]
  },
  {
   "cell_type": "code",
   "execution_count": null,
   "id": "7654bc8f-ceaa-4dbf-8422-97d26663813a",
   "metadata": {},
   "outputs": [],
   "source": [
    "import matplotlib.pyplot as plt\n",
    "\n",
    "plt.style.use(\"light.mplstyle\")\n",
    "\n",
    "\n",
    "def plot(df: pd.DataFrame, logx: bool = True, logy: bool = False, title: str = \"\"):\n",
    "    fig, ax = plt.subplots()\n",
    "    df.plot(\n",
    "        ax=ax,\n",
    "        logx=logx,\n",
    "        logy=logy,\n",
    "        xlabel=\"Sorted Dictionary Length\",\n",
    "        xlim=(sorted_dict_lens[0] // 10, sorted_dict_lens[-1] * 10),\n",
    "        ylabel=\"Average Execution Time, s\",\n",
    "    )\n",
    "    ax.grid(which='major', linewidth=0.5, linestyle=':')\n",
    "    ax.grid(which='minor', linewidth=0.0625, linestyle='-')\n",
    "    ax.minorticks_on()\n",
    "    ax.legend(prop={\"family\": \"JetBrains Mono\"})\n",
    "    ax.set_title(title, fontname=\"JetBrains Mono\")\n",
    "    plt.show()"
   ]
  },
  {
   "cell_type": "markdown",
   "id": "003fe645-f06a-4806-b7f0-fd65f3253ff7",
   "metadata": {
    "jp-MarkdownHeadingCollapsed": true
   },
   "source": [
    "# `__contains__`"
   ]
  },
  {
   "cell_type": "code",
   "execution_count": null,
   "id": "88a939c4-4ee4-4372-a412-dd384f0e778f",
   "metadata": {},
   "outputs": [],
   "source": [
    "df = pd.DataFrame(index=sorted_dict_lens, columns=[\"0.00 in d\", \"0.33 in d\", \"0.66 in d\", \"1.00 in d\"])\n",
    "for i, sorted_dict_len in enumerate(sorted_dict_lens):\n",
    "    print(f\"{sorted_dict_len=}\")\n",
    "    d = setup(sorted_dict_len)\n",
    "    for j, key in enumerate([0.00, 0.33, 0.66, 1.00]):\n",
    "        bench = %timeit -o key in d\n",
    "        df.iat[i, j] = bench.average"
   ]
  },
  {
   "cell_type": "code",
   "execution_count": null,
   "id": "6a1a82e3-3afa-42cc-82f2-280f5869e9ff",
   "metadata": {},
   "outputs": [],
   "source": [
    "plot(df, \"__contains__\")"
   ]
  },
  {
   "cell_type": "markdown",
   "id": "245c6bb0-2d13-44b5-95ca-66db57d0f99c",
   "metadata": {},
   "source": [
    "# `__iter__`"
   ]
  },
  {
   "cell_type": "code",
   "execution_count": null,
   "id": "a22c4774-b4b6-4b60-a037-8c486a1e11bf",
   "metadata": {},
   "outputs": [],
   "source": [
    "df = pd.DataFrame(index=sorted_dict_lens, columns=[\"for _ in d: pass\"])\n",
    "for i, sorted_dict_len in enumerate(sorted_dict_lens):\n",
    "    d = setup(sorted_dict_len)\n",
    "    %timeit -v bench for _ in d: pass\n",
    "    df.iloc[i] = bench.average"
   ]
  },
  {
   "cell_type": "code",
   "execution_count": null,
   "id": "8a5c52a3-9dab-4001-801e-93539ccc8118",
   "metadata": {},
   "outputs": [],
   "source": [
    "plot(df, logy=True, title=\"__iter__\")"
   ]
  }
 ],
 "metadata": {
  "kernelspec": {
   "display_name": "Python 3 (ipykernel)",
   "language": "python",
   "name": "python3"
  },
  "language_info": {
   "codemirror_mode": {
    "name": "ipython",
    "version": 3
   },
   "file_extension": ".py",
   "mimetype": "text/x-python",
   "name": "python",
   "nbconvert_exporter": "python",
   "pygments_lexer": "ipython3",
   "version": "3.11.2"
  }
 },
 "nbformat": 4,
 "nbformat_minor": 5
}
