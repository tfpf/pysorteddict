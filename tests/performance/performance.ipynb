{
 "cells": [
  {
   "cell_type": "code",
   "execution_count": 6,
   "id": "cc6fc4f5-b066-4225-94b1-2b3fc0b89677",
   "metadata": {},
   "outputs": [],
   "source": [
    "import math\n",
    "import random\n",
    "\n",
    "import pandas as pd\n",
    "from pysorteddict import SortedDict\n",
    "\n",
    "\n",
    "def setup(sorted_dict_len: int, seed: float = math.pi) -> SortedDict:\n",
    "    random.seed(seed)\n",
    "    d = SortedDict()\n",
    "    for _ in range(sorted_dict_len):\n",
    "        d[random.random()] = random.random()\n",
    "    return d\n",
    "\n",
    "\n",
    "sorted_dict_lens = [100, 1_000, 10_000, 100_000, 1_000_000, 10_000_000]"
   ]
  },
  {
   "cell_type": "markdown",
   "id": "003fe645-f06a-4806-b7f0-fd65f3253ff7",
   "metadata": {},
   "source": [
    "# `__contains__`"
   ]
  },
  {
   "cell_type": "code",
   "execution_count": null,
   "id": "88a939c4-4ee4-4372-a412-dd384f0e778f",
   "metadata": {},
   "outputs": [
    {
     "name": "stdout",
     "output_type": "stream",
     "text": [
      "sorted_dict_len=100\n",
      "37 ns ± 0.123 ns per loop (mean ± std. dev. of 7 runs, 10,000,000 loops each)\n",
      "44.7 ns ± 0.489 ns per loop (mean ± std. dev. of 7 runs, 10,000,000 loops each)\n",
      "43.5 ns ± 0.317 ns per loop (mean ± std. dev. of 7 runs, 10,000,000 loops each)\n",
      "40.4 ns ± 0.538 ns per loop (mean ± std. dev. of 7 runs, 10,000,000 loops each)\n",
      "32 ns ± 0.483 ns per loop (mean ± std. dev. of 7 runs, 10,000,000 loops each)\n",
      "sorted_dict_len=1000\n",
      "48.8 ns ± 0.383 ns per loop (mean ± std. dev. of 7 runs, 10,000,000 loops each)\n",
      "62 ns ± 0.346 ns per loop (mean ± std. dev. of 7 runs, 10,000,000 loops each)\n",
      "55.6 ns ± 0.394 ns per loop (mean ± std. dev. of 7 runs, 10,000,000 loops each)\n",
      "56.6 ns ± 0.384 ns per loop (mean ± std. dev. of 7 runs, 10,000,000 loops each)\n",
      "61.9 ns ± 1.13 ns per loop (mean ± std. dev. of 7 runs, 10,000,000 loops each)\n",
      "sorted_dict_len=10000\n",
      "63.4 ns ± 0.556 ns per loop (mean ± std. dev. of 7 runs, 10,000,000 loops each)\n",
      "78.9 ns ± 0.455 ns per loop (mean ± std. dev. of 7 runs, 10,000,000 loops each)\n",
      "71.9 ns ± 0.281 ns per loop (mean ± std. dev. of 7 runs, 10,000,000 loops each)\n",
      "67.6 ns ± 0.395 ns per loop (mean ± std. dev. of 7 runs, 10,000,000 loops each)\n",
      "65.8 ns ± 0.814 ns per loop (mean ± std. dev. of 7 runs, 10,000,000 loops each)\n",
      "sorted_dict_len=100000\n",
      "81.4 ns ± 0.393 ns per loop (mean ± std. dev. of 7 runs, 10,000,000 loops each)\n",
      "86.2 ns ± 0.425 ns per loop (mean ± std. dev. of 7 runs, 10,000,000 loops each)\n",
      "76.5 ns ± 0.53 ns per loop (mean ± std. dev. of 7 runs, 10,000,000 loops each)\n",
      "85.6 ns ± 0.433 ns per loop (mean ± std. dev. of 7 runs, 10,000,000 loops each)\n",
      "85.3 ns ± 0.474 ns per loop (mean ± std. dev. of 7 runs, 10,000,000 loops each)\n",
      "sorted_dict_len=1000000\n",
      "95.7 ns ± 0.611 ns per loop (mean ± std. dev. of 7 runs, 10,000,000 loops each)\n",
      "94.1 ns ± 0.352 ns per loop (mean ± std. dev. of 7 runs, 10,000,000 loops each)\n",
      "96.9 ns ± 0.512 ns per loop (mean ± std. dev. of 7 runs, 10,000,000 loops each)\n",
      "104 ns ± 0.273 ns per loop (mean ± std. dev. of 7 runs, 10,000,000 loops each)\n",
      "95.1 ns ± 1.59 ns per loop (mean ± std. dev. of 7 runs, 10,000,000 loops each)\n",
      "sorted_dict_len=10000000\n"
     ]
    }
   ],
   "source": [
    "df = pd.DataFrame(index=sorted_dict_lens, columns=[\"0.00 in d\", \"0.33 in d\", \"0.66 in d\", \"1.00 in d\"])\n",
    "for i, sorted_dict_len in enumerate(sorted_dict_lens):\n",
    "    print(f\"{sorted_dict_len=}\")\n",
    "    d = setup(sorted_dict_len)\n",
    "    for j, key in enumerate([0.00, 0.33, 0.66, 1.00]):\n",
    "        df.iat[i, j] = %timeit -o key in d\n",
    "df"
   ]
  },
  {
   "cell_type": "markdown",
   "id": "245c6bb0-2d13-44b5-95ca-66db57d0f99c",
   "metadata": {},
   "source": [
    "# `SortedDictKeys.__iter__`"
   ]
  },
  {
   "cell_type": "code",
   "execution_count": null,
   "id": "a22c4774-b4b6-4b60-a037-8c486a1e11bf",
   "metadata": {},
   "outputs": [],
   "source": [
    "for sorted_dict_len in sorted_dict_lens:\n",
    "    print(f\"{sorted_dict_len=}\")\n",
    "    d = setup(sorted_dict_len)\n",
    "    k = d.keys()\n",
    "    %timeit for _ in k: pass"
   ]
  },
  {
   "cell_type": "markdown",
   "id": "dee4e5fe-9ccd-4555-b06d-c6bd0f0b8f1a",
   "metadata": {},
   "source": [
    "# `SortedDict.__setitem__`"
   ]
  }
 ],
 "metadata": {
  "kernelspec": {
   "display_name": "Python 3 (ipykernel)",
   "language": "python",
   "name": "python3"
  },
  "language_info": {
   "codemirror_mode": {
    "name": "ipython",
    "version": 3
   },
   "file_extension": ".py",
   "mimetype": "text/x-python",
   "name": "python",
   "nbconvert_exporter": "python",
   "pygments_lexer": "ipython3",
   "version": "3.11.2"
  }
 },
 "nbformat": 4,
 "nbformat_minor": 5
}
