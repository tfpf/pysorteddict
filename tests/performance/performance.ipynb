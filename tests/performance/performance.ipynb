{
 "cells": [
  {
   "cell_type": "code",
   "execution_count": null,
   "id": "cc6fc4f5-b066-4225-94b1-2b3fc0b89677",
   "metadata": {},
   "outputs": [],
   "source": [
    "import math\n",
    "import random\n",
    "from typing import Any\n",
    "\n",
    "import matplotlib.pyplot as plt\n",
    "import pandas as pd\n",
    "\n",
    "from pysorteddict import SortedDict\n",
    "\n",
    "sorted_dict_lens = [100, 1_000, 10_000, 100_000, 1_000_000, 10_000_000]\n",
    "\n",
    "\n",
    "def setup(sorted_dict_len: int, seed: float = math.pi) -> SortedDict:\n",
    "    random.seed(seed)\n",
    "    d = SortedDict()\n",
    "    for _ in range(sorted_dict_len):\n",
    "        d[random.random()] = random.random()\n",
    "    return d\n",
    "\n",
    "\n",
    "def _plot(df: pd.DataFrame, *, alpha: float, logy: bool, yunit: str) -> Any:\n",
    "    fig, ax = plt.subplots()\n",
    "    df.plot(\n",
    "        alpha=alpha,\n",
    "        ax=ax,\n",
    "        logx=True,\n",
    "        logy=logy,\n",
    "        xlabel=\"Sorted Dictionary Length\",\n",
    "        xlim=(sorted_dict_lens[0] // 10, sorted_dict_lens[-1] * 10),\n",
    "        ylabel=\"Average Execution Time\",\n",
    "    )\n",
    "    ax.grid(which=\"major\", linewidth=0.5, linestyle=\":\")\n",
    "    ax.grid(which=\"minor\", axis=\"y\", linewidth=0.0625, linestyle=\"-\")\n",
    "    ax.minorticks_on()\n",
    "    ax.legend(prop={\"family\": \"JetBrains Mono\"})\n",
    "    # The warning about setting labels without setting ticks can be ignored. The plot isn't interactive.\n",
    "    ax.set_yticklabels(f\"{label.get_text()} {yunit}\" for label in ax.get_yticklabels())\n",
    "    plt.show()\n",
    "    return fig\n",
    "\n",
    "\n",
    "def plot(df: pd.DataFrame, *, alpha: float = 0.7, logy: bool = False, name: str = \"\", yunit: str = \"s\"):\n",
    "    for style in [\"light\", \"dark\"]:\n",
    "        with plt.style.context(f\"{style}.mplstyle\", after_reset=True):\n",
    "            fig = _plot(df, alpha=alpha, logy=logy, yunit=yunit)\n",
    "            fig.savefig(f\"../../docs/_static/images/perf-{name}-{style}.svg\")"
   ]
  },
  {
   "cell_type": "markdown",
   "id": "003fe645-f06a-4806-b7f0-fd65f3253ff7",
   "metadata": {},
   "source": [
    "# `contains`"
   ]
  },
  {
   "cell_type": "code",
   "execution_count": null,
   "id": "88a939c4-4ee4-4372-a412-dd384f0e778f",
   "metadata": {},
   "outputs": [],
   "source": [
    "df = pd.DataFrame(index=sorted_dict_lens, columns=[\"0.00 in d\", \"0.33 in d\", \"0.67 in d\", \"1.00 in d\"])\n",
    "for i, sorted_dict_len in enumerate(sorted_dict_lens):\n",
    "    d = setup(sorted_dict_len)\n",
    "    for j, key in enumerate([0.00, 0.33, 0.67, 1.00]):\n",
    "        %timeit -v bench key in d\n",
    "        df.iat[i, j] = bench.average * 1e9"
   ]
  },
  {
   "cell_type": "code",
   "execution_count": null,
   "id": "6a1a82e3-3afa-42cc-82f2-280f5869e9ff",
   "metadata": {},
   "outputs": [],
   "source": [
    "display(df.T)\n",
    "plot(df, name=\"contains\", yunit=\"ns\")"
   ]
  },
  {
   "cell_type": "markdown",
   "id": "5a474b4b-cb89-4fc6-a435-0eb5d8cd8669",
   "metadata": {},
   "source": [
    "# `setitem`"
   ]
  },
  {
   "cell_type": "code",
   "execution_count": null,
   "id": "302083e4-df2e-42c8-9072-daad5ece829d",
   "metadata": {},
   "outputs": [],
   "source": [
    "def set_del(d: SortedDict, keys: list[float]):\n",
    "    for key in keys:\n",
    "        d[key] = None\n",
    "    for key in keys:\n",
    "        del d[key]\n",
    "\n",
    "\n",
    "keys_lens = [33, 67, 100]\n",
    "df = pd.DataFrame(index=sorted_dict_lens, columns=[f\"set_del(d, keys_{keys_len})\" for keys_len in keys_lens])\n",
    "for i, sorted_dict_len in enumerate(sorted_dict_lens):\n",
    "    for j, keys_len in enumerate(keys_lens):\n",
    "        d = setup(sorted_dict_len)\n",
    "        keys = [random.random() for _ in range(keys_len)]\n",
    "        %timeit -v bench set_del(d, keys)\n",
    "        df.iat[i, j] = bench.average * 1e6"
   ]
  },
  {
   "cell_type": "code",
   "execution_count": null,
   "id": "b2f0800b-c130-46dd-814e-04b71ab7ce8c",
   "metadata": {},
   "outputs": [],
   "source": [
    "display(df.T)\n",
    "plot(df, name=\"setitem\", yunit=\"μs\")"
   ]
  },
  {
   "cell_type": "markdown",
   "id": "245c6bb0-2d13-44b5-95ca-66db57d0f99c",
   "metadata": {},
   "source": [
    "# `iter`"
   ]
  },
  {
   "cell_type": "code",
   "execution_count": null,
   "id": "a22c4774-b4b6-4b60-a037-8c486a1e11bf",
   "metadata": {},
   "outputs": [],
   "source": [
    "df = pd.DataFrame(index=sorted_dict_lens, columns=[\"for _ in d: pass\", \"for _ in reversed(d): pass\"])\n",
    "for i, sorted_dict_len in enumerate(sorted_dict_lens):\n",
    "    d = setup(sorted_dict_len)\n",
    "    %timeit -v bench for _ in d: pass\n",
    "    df.iat[i, 0] = bench.average\n",
    "    %timeit -v bench for _ in reversed(d): pass\n",
    "    df.iat[i, 1] = bench.average"
   ]
  },
  {
   "cell_type": "code",
   "execution_count": null,
   "id": "8a5c52a3-9dab-4001-801e-93539ccc8118",
   "metadata": {},
   "outputs": [],
   "source": [
    "display(df.T)\n",
    "plot(df, logy=True, name=\"iter\")"
   ]
  }
 ],
 "metadata": {
  "kernelspec": {
   "display_name": "Python 3 (ipykernel)",
   "language": "python",
   "name": "python3"
  },
  "language_info": {
   "codemirror_mode": {
    "name": "ipython",
    "version": 3
   },
   "file_extension": ".py",
   "mimetype": "text/x-python",
   "name": "python",
   "nbconvert_exporter": "python",
   "pygments_lexer": "ipython3",
   "version": "3.11.2"
  }
 },
 "nbformat": 4,
 "nbformat_minor": 5
}
