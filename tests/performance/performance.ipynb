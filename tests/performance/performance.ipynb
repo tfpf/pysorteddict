{
 "cells": [
  {
   "cell_type": "code",
   "execution_count": null,
   "id": "cc6fc4f5-b066-4225-94b1-2b3fc0b89677",
   "metadata": {},
   "outputs": [],
   "source": [
    "import math\n",
    "import random\n",
    "\n",
    "from pysorteddict import SortedDict\n",
    "\n",
    "\n",
    "def setup(sorted_dict_len: int, seed: float = math.pi) -> SortedDict:\n",
    "    random.seed(seed)\n",
    "    d = SortedDict()\n",
    "    for _ in range(sorted_dict_len):\n",
    "        d[random.random()] = random.random()\n",
    "    return d\n",
    "\n",
    "\n",
    "sorted_dict_lens = [100, 1_000, 10_000, 100_000, 1_000_000, 10_000_000]"
   ]
  },
  {
   "cell_type": "markdown",
   "id": "003fe645-f06a-4806-b7f0-fd65f3253ff7",
   "metadata": {},
   "source": [
    "# `SortedDict.__contains__`"
   ]
  },
  {
   "cell_type": "code",
   "execution_count": null,
   "id": "88a939c4-4ee4-4372-a412-dd384f0e778f",
   "metadata": {},
   "outputs": [],
   "source": [
    "for sorted_dict_len in sorted_dict_lens:\n",
    "    print(f\"{sorted_dict_len=}\")\n",
    "    d = setup(sorted_dict_len)\n",
    "    %timeit 0.00 in d\n",
    "    %timeit 0.25 in d\n",
    "    %timeit 0.50 in d\n",
    "    %timeit 0.75 in d\n",
    "    %timeit 1.00 in d"
   ]
  },
  {
   "cell_type": "markdown",
   "id": "245c6bb0-2d13-44b5-95ca-66db57d0f99c",
   "metadata": {},
   "source": [
    "# `SortedDictKeys.__iter__`"
   ]
  },
  {
   "cell_type": "code",
   "execution_count": null,
   "id": "a22c4774-b4b6-4b60-a037-8c486a1e11bf",
   "metadata": {},
   "outputs": [],
   "source": [
    "for sorted_dict_len in sorted_dict_lens:\n",
    "    print(f\"{sorted_dict_len=}\")\n",
    "    d = setup(sorted_dict_len)\n",
    "    k = d.keys()\n",
    "    %timeit for _ in k: pass"
   ]
  },
  {
   "cell_type": "markdown",
   "id": "dee4e5fe-9ccd-4555-b06d-c6bd0f0b8f1a",
   "metadata": {},
   "source": [
    "# `SortedDict.__setitem__`"
   ]
  }
 ],
 "metadata": {
  "kernelspec": {
   "display_name": "Python 3 (ipykernel)",
   "language": "python",
   "name": "python3"
  },
  "language_info": {
   "codemirror_mode": {
    "name": "ipython",
    "version": 3
   },
   "file_extension": ".py",
   "mimetype": "text/x-python",
   "name": "python",
   "nbconvert_exporter": "python",
   "pygments_lexer": "ipython3",
   "version": "3.13.5"
  }
 },
 "nbformat": 4,
 "nbformat_minor": 5
}
